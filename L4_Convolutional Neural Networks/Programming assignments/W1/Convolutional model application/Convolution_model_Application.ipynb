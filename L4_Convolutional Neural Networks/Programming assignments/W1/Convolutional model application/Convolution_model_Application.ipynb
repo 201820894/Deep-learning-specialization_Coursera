{
 "cells": [
  {
   "cell_type": "markdown",
   "metadata": {},
   "source": [
    "# Convolutional Neural Networks: Application\n",
    "\n",
    "Welcome to Course 4's second assignment! In this notebook, you will:\n",
    "\n",
    "- Create a mood classifer using the TF Keras Sequential API\n",
    "- Build a ConvNet to identify sign language digits using the TF Keras Functional API\n",
    "\n",
    "**After this assignment you will be able to:**\n",
    "\n",
    "- Build and train a ConvNet in TensorFlow for a __binary__ classification problem\n",
    "- Build and train a ConvNet in TensorFlow for a __multiclass__ classification problem\n",
    "- Explain different use cases for the Sequential and Functional APIs\n",
    "\n",
    "To complete this assignment, you should already be familiar with TensorFlow. If you are not, please refer back to the **TensorFlow Tutorial** of the third week of Course 2 (\"**Improving deep neural networks**\").\n",
    "\n",
    "## Important Note on Submission to the AutoGrader\n",
    "\n",
    "Before submitting your assignment to the AutoGrader, please make sure you are not doing the following:\n",
    "\n",
    "1. You have not added any _extra_ `print` statement(s) in the assignment.\n",
    "2. You have not added any _extra_ code cell(s) in the assignment.\n",
    "3. You have not changed any of the function parameters.\n",
    "4. You are not using any global variables inside your graded exercises. Unless specifically instructed to do so, please refrain from it and use the local variables instead.\n",
    "5. You are not changing the assignment code where it is not required, like creating _extra_ variables.\n",
    "\n",
    "If you do any of the following, you will get something like, `Grader not found` (or similarly unexpected) error upon submitting your assignment. Before asking for help/debugging the errors in your assignment, check for these first. If this is the case, and you don't remember the changes you have made, you can get a fresh copy of the assignment by following these [instructions](https://www.coursera.org/learn/convolutional-neural-networks/supplement/DS4yP/h-ow-to-refresh-your-workspace)."
   ]
  },
  {
   "cell_type": "markdown",
   "metadata": {},
   "source": [
    "## Table of Contents\n",
    "\n",
    "- [1 - Packages](#1)\n",
    "    - [1.1 - Load the Data and Split the Data into Train/Test Sets](#1-1)\n",
    "- [2 - Layers in TF Keras](#2)\n",
    "- [3 - The Sequential API](#3)\n",
    "    - [3.1 - Create the Sequential Model](#3-1)\n",
    "        - [Exercise 1 - happyModel](#ex-1)\n",
    "    - [3.2 - Train and Evaluate the Model](#3-2)\n",
    "- [4 - The Functional API](#4)\n",
    "    - [4.1 - Load the SIGNS Dataset](#4-1)\n",
    "    - [4.2 - Split the Data into Train/Test Sets](#4-2)\n",
    "    - [4.3 - Forward Propagation](#4-3)\n",
    "        - [Exercise 2 - convolutional_model](#ex-2)\n",
    "    - [4.4 - Train the Model](#4-4)\n",
    "- [5 - History Object](#5)\n",
    "- [6 - Bibliography](#6)"
   ]
  },
  {
   "cell_type": "markdown",
   "metadata": {},
   "source": [
    "<a name='1'></a>\n",
    "## 1 - Packages\n",
    "\n",
    "As usual, begin by loading in the packages."
   ]
  },
  {
   "cell_type": "code",
   "execution_count": 5,
   "metadata": {},
   "outputs": [],
   "source": [
    "import math\n",
    "import numpy as np\n",
    "import h5py\n",
    "import matplotlib.pyplot as plt\n",
    "from matplotlib.pyplot import imread\n",
    "import scipy\n",
    "from PIL import Image\n",
    "import pandas as pd\n",
    "import tensorflow as tf\n",
    "import tensorflow.keras.layers as tfl\n",
    "from tensorflow.python.framework import ops\n",
    "from cnn_utils import *\n",
    "from test_utils import summary, comparator\n",
    "\n",
    "%matplotlib inline\n",
    "np.random.seed(1)"
   ]
  },
  {
   "cell_type": "markdown",
   "metadata": {},
   "source": [
    "<a name='1-1'></a>\n",
    "### 1.1 - Load the Data and Split the Data into Train/Test Sets\n",
    "\n",
    "You'll be using the Happy House dataset for this part of the assignment, which contains images of peoples' faces. Your task will be to build a ConvNet that determines whether the people in the images are smiling or not -- because they only get to enter the house if they're smiling!  "
   ]
  },
  {
   "cell_type": "code",
   "execution_count": 6,
   "metadata": {},
   "outputs": [
    {
     "name": "stdout",
     "output_type": "stream",
     "text": [
      "number of training examples = 600\n",
      "number of test examples = 150\n",
      "X_train shape: (600, 64, 64, 3)\n",
      "Y_train shape: (600, 1)\n",
      "X_test shape: (150, 64, 64, 3)\n",
      "Y_test shape: (150, 1)\n"
     ]
    }
   ],
   "source": [
    "X_train_orig, Y_train_orig, X_test_orig, Y_test_orig, classes = load_happy_dataset()\n",
    "\n",
    "# Normalize image vectors\n",
    "X_train = X_train_orig/255.\n",
    "X_test = X_test_orig/255.\n",
    "\n",
    "# Reshape\n",
    "Y_train = Y_train_orig.T\n",
    "Y_test = Y_test_orig.T\n",
    "\n",
    "print (\"number of training examples = \" + str(X_train.shape[0]))\n",
    "print (\"number of test examples = \" + str(X_test.shape[0]))\n",
    "print (\"X_train shape: \" + str(X_train.shape))\n",
    "print (\"Y_train shape: \" + str(Y_train.shape))\n",
    "print (\"X_test shape: \" + str(X_test.shape))\n",
    "print (\"Y_test shape: \" + str(Y_test.shape))"
   ]
  },
  {
   "cell_type": "markdown",
   "metadata": {},
   "source": [
    "You can display the images contained in the dataset. Images are **64x64** pixels in RGB format (3 channels)."
   ]
  },
  {
   "cell_type": "code",
   "execution_count": 7,
   "metadata": {},
   "outputs": [
    {
     "data": {
      "image/png": "[encoded data removed]",
      "text/plain": [
       "<Figure size 432x288 with 1 Axes>"
      ]
     },
     "metadata": {
      "needs_background": "light"
     },
     "output_type": "display_data"
    }
   ],
   "source": [
    "index = 124\n",
    "plt.imshow(X_train_orig[index]) #display sample training image\n",
    "plt.show()"
   ]
  },
  {
   "cell_type": "markdown",
   "metadata": {},
   "source": [
    "<a name='2'></a>\n",
    "## 2 - Layers in TF Keras \n",
    "\n",
    "In the previous assignment, you created layers manually in numpy. In TF Keras, you don't have to write code directly to create layers. Rather, TF Keras has pre-defined layers you can use. \n",
    "\n",
    "When you create a layer in TF Keras, you are creating a function that takes some input and transforms it into an output you can reuse later. Nice and easy! "
   ]
  },
  {
   "cell_type": "markdown",
   "metadata": {},
   "source": [
    "<a name='3'></a>\n",
    "## 3 - The Sequential API\n",
    "\n",
    "In the previous assignment, you built helper functions using `numpy` to understand the mechanics behind convolutional neural networks. Most practical applications of deep learning today are built using programming frameworks, which have many built-in functions you can simply call. Keras is a high-level abstraction built on top of TensorFlow, which allows for even more simplified and optimized model creation and training. \n",
    "\n",
    "For the first part of this assignment, you'll create a model using TF Keras' Sequential API, which allows you to build layer by layer, and is ideal for building models where each layer has **exactly one** input tensor and **one** output tensor. \n",
    "\n",
    "As you'll see, using the Sequential API is simple and straightforward, but is only appropriate for simpler, more straightforward tasks. Later in this notebook you'll spend some time building with a more flexible, powerful alternative: the Functional API. \n",
    " "
   ]
  },
  {
   "cell_type": "markdown",
   "metadata": {},
   "source": [
    "<a name='3-1'></a>\n",
    "### 3.1 - Create the Sequential Model\n",
    "\n",
    "As mentioned earlier, the TensorFlow Keras Sequential API can be used to build simple models with layer operations that proceed in a sequential order. \n",
    "\n",
    "You can also add layers incrementally to a Sequential model with the `.add()` method, or remove them using the `.pop()` method, much like you would in a regular Python list.\n",
    "\n",
    "Actually, you can think of a Sequential model as behaving like a list of layers. Like Python lists, Sequential layers are ordered, and the order in which they are specified matters.  If your model is non-linear or contains layers with multiple inputs or outputs, a Sequential model wouldn't be the right choice!\n",
    "\n",
    "For any layer construction in Keras, you'll need to specify the input shape in advance. This is because in Keras, the shape of the weights is based on the shape of the inputs. The weights are only created when the model first sees some input data. Sequential models can be created by passing a list of layers to the Sequential constructor, like you will do in the next assignment.\n",
    "\n",
    "<a name='ex-1'></a>\n",
    "### Exercise 1 - happyModel\n",
    "\n",
    "Implement the `happyModel` function below to build the following model: `ZEROPAD2D -> CONV2D -> BATCHNORM -> RELU -> MAXPOOL -> FLATTEN -> DENSE`. Take help from [tf.keras.layers](https://www.tensorflow.org/api_docs/python/tf/keras/layers) \n",
    "\n",
    "Also, plug in the following parameters for all the steps:\n",
    "\n",
    " - [ZeroPadding2D](https://www.tensorflow.org/api_docs/python/tf/keras/layers/ZeroPadding2D): padding 3, input shape 64 x 64 x 3\n",
    " - [Conv2D](https://www.tensorflow.org/api_docs/python/tf/keras/layers/Conv2D): Use 32 7x7 filters, stride 1\n",
    " - [BatchNormalization](https://www.tensorflow.org/api_docs/python/tf/keras/layers/BatchNormalization): for axis 3\n",
    " - [ReLU](https://www.tensorflow.org/api_docs/python/tf/keras/layers/ReLU)\n",
    " - [MaxPool2D](https://www.tensorflow.org/api_docs/python/tf/keras/layers/MaxPool2D): Using default parameters\n",
    " - [Flatten](https://www.tensorflow.org/api_docs/python/tf/keras/layers/Flatten) the previous output.\n",
    " - Fully-connected ([Dense](https://www.tensorflow.org/api_docs/python/tf/keras/layers/Dense)) layer: Apply a fully connected layer with 1 neuron and a sigmoid activation. \n",
    " \n",
    " \n",
    " **Hint:**\n",
    " \n",
    " Use **tfl** as shorthand for **tensorflow.keras.layers**"
   ]
  },
  {
   "cell_type": "code",
   "execution_count": 16,
   "metadata": {
    "deletable": false,
    "nbgrader": {
     "cell_type": "code",
     "checksum": "95d28b191f257bdd5b70c7b8952559d5",
     "grade": false,
     "grade_id": "cell-0e56d3fc28b69aec",
     "locked": false,
     "schema_version": 3,
     "solution": true,
     "task": false
    }
   },
   "outputs": [],
   "source": [
    "# GRADED FUNCTION: happyModel\n",
    "\n",
    "def happyModel():\n",
    "    \"\"\"\n",
    "    Implements the forward propagation for the binary classification model:\n",
    "    ZEROPAD2D -> CONV2D -> BATCHNORM -> RELU -> MAXPOOL -> FLATTEN -> DENSE\n",
    "    \n",
    "    Note that for simplicity and grading purposes, you'll hard-code all the values\n",
    "    such as the stride and kernel (filter) sizes. \n",
    "    Normally, functions should take these values as function parameters.\n",
    "    \n",
    "    Arguments:\n",
    "    None\n",
    "\n",
    "    Returns:\n",
    "    model -- TF Keras model (object containing the information for the entire training process) \n",
    "    \"\"\"\n",
    "    model = tf.keras.Sequential([\n",
    "            ## ZeroPadding2D with padding 3, input shape of 64 x 64 x 3\n",
    "            tfl.ZeroPadding2D(padding=(3,3), input_shape=(64,64,3)),\n",
    "            ## Conv2D with 32 7x7 filters and stride of 1\n",
    "            tfl.Conv2D(32,(7,7),strides=(1,1)),\n",
    "            ## BatchNormalization for axis 3\n",
    "            tfl.BatchNormalization(axis=3),\n",
    "            ## ReLU\n",
    "            tfl.ReLU(),\n",
    "            ## Max Pooling 2D with default parameters\n",
    "            tfl.MaxPool2D(),\n",
    "            ## Flatten layer\n",
    "            tfl.Flatten(),\n",
    "            ## Dense layer with 1 unit for output & 'sigmoid' activation\n",
    "            tfl.Dense(1, activation=\"sigmoid\")\n",
    "            # YOUR CODE STARTS HERE\n",
    "            \n",
    "            # YOUR CODE ENDS HERE\n",
    "        ])\n",
    "    \n",
    "    return model"
   ]
  },
  {
   "cell_type": "code",
   "execution_count": 17,
   "metadata": {
    "deletable": false,
    "editable": false,
    "nbgrader": {
     "cell_type": "code",
     "checksum": "8d3575c950e2e78149be2d05d671c80d",
     "grade": true,
     "grade_id": "cell-e3e1046e5c33d775",
     "locked": true,
     "points": 10,
     "schema_version": 3,
     "solution": false,
     "task": false
    }
   },
   "outputs": [
    {
     "name": "stdout",
     "output_type": "stream",
     "text": [
      "['ZeroPadding2D', (None, 70, 70, 3), 0, ((3, 3), (3, 3))]\n",
      "['Conv2D', (None, 64, 64, 32), 4736, 'valid', 'linear', 'GlorotUniform']\n",
      "['BatchNormalization', (None, 64, 64, 32), 128]\n",
      "['ReLU', (None, 64, 64, 32), 0]\n",
      "['MaxPooling2D', (None, 32, 32, 32), 0, (2, 2), (2, 2), 'valid']\n",
      "['Flatten', (None, 32768), 0]\n",
      "['Dense', (None, 1), 32769, 'sigmoid']\n",
      "\u001b[32mAll tests passed!\u001b[0m\n"
     ]
    }
   ],
   "source": [
    "happy_model = happyModel()\n",
    "# Print a summary for each layer\n",
    "for layer in summary(happy_model):\n",
    "    print(layer)\n",
    "    \n",
    "output = [['ZeroPadding2D', (None, 70, 70, 3), 0, ((3, 3), (3, 3))],\n",
    "            ['Conv2D', (None, 64, 64, 32), 4736, 'valid', 'linear', 'GlorotUniform'],\n",
    "            ['BatchNormalization', (None, 64, 64, 32), 128],\n",
    "            ['ReLU', (None, 64, 64, 32), 0],\n",
    "            ['MaxPooling2D', (None, 32, 32, 32), 0, (2, 2), (2, 2), 'valid'],\n",
    "            ['Flatten', (None, 32768), 0],\n",
    "            ['Dense', (None, 1), 32769, 'sigmoid']]\n",
    "    \n",
    "comparator(summary(happy_model), output)"
   ]
  },
  {
   "cell_type": "markdown",
   "metadata": {},
   "source": [
    "Now that your model is created, you can compile it for training with an optimizer and loss of your choice. When the string `accuracy` is specified as a metric, the type of accuracy used will be automatically converted based on the loss function used. This is one of the many optimizations built into TensorFlow that make your life easier! If you'd like to read more on how the compiler operates, check the docs [here](https://www.tensorflow.org/api_docs/python/tf/keras/Model#compile)."
   ]
  },
  {
   "cell_type": "code",
   "execution_count": 18,
   "metadata": {},
   "outputs": [],
   "source": [
    "happy_model.compile(optimizer='adam',\n",
    "                   loss='binary_crossentropy',\n",
    "                   metrics=['accuracy'])"
   ]
  },
  {
   "cell_type": "markdown",
   "metadata": {},
   "source": [
    "It's time to check your model's parameters with the `.summary()` method. This will display the types of layers you have, the shape of the outputs, and how many parameters are in each layer. "
   ]
  },
  {
   "cell_type": "code",
   "execution_count": 19,
   "metadata": {},
   "outputs": [
    {
     "name": "stdout",
     "output_type": "stream",
     "text": [
      "Model: \"sequential_2\"\n",
      "_________________________________________________________________\n",
      "Layer (type)                 Output Shape              Param #   \n",
      "=================================================================\n",
      "zero_padding2d_3 (ZeroPaddin (None, 70, 70, 3)         0         \n",
      "_________________________________________________________________\n",
      "conv2d_3 (Conv2D)            (None, 64, 64, 32)        4736      \n",
      "_________________________________________________________________\n",
      "batch_normalization_3 (Batch (None, 64, 64, 32)        128       \n",
      "_________________________________________________________________\n",
      "re_lu_3 (ReLU)               (None, 64, 64, 32)        0         \n",
      "_________________________________________________________________\n",
      "max_pooling2d_2 (MaxPooling2 (None, 32, 32, 32)        0         \n",
      "_________________________________________________________________\n",
      "flatten_2 (Flatten)          (None, 32768)             0         \n",
      "_________________________________________________________________\n",
      "dense_2 (Dense)              (None, 1)                 32769     \n",
      "=================================================================\n",
      "Total params: 37,633\n",
      "Trainable params: 37,569\n",
      "Non-trainable params: 64\n",
      "_________________________________________________________________\n"
     ]
    }
   ],
   "source": [
    "happy_model.summary()"
   ]
  },
  {
   "cell_type": "markdown",
   "metadata": {},
   "source": [
    "<a name='3-2'></a>\n",
    "### 3.2 - Train and Evaluate the Model\n",
    "\n",
    "After creating the model, compiling it with your choice of optimizer and loss function, and doing a sanity check on its contents, you are now ready to build! \n",
    "\n",
    "Simply call `.fit()` to train. That's it! No need for mini-batching, saving, or complex backpropagation computations. That's all been done for you, as you're using a TensorFlow dataset with the batches specified already. You do have the option to specify epoch number or minibatch size if you like (for example, in the case of an un-batched dataset)."
   ]
  },
  {
   "cell_type": "code",
   "execution_count": 20,
   "metadata": {},
   "outputs": [
    {
     "name": "stdout",
     "output_type": "stream",
     "text": [
      "Epoch 1/10\n",
      "38/38 [==============================] - 4s 100ms/step - loss: 1.2778 - accuracy: 0.7083\n",
      "Epoch 2/10\n",
      "38/38 [==============================] - 4s 95ms/step - loss: 0.1961 - accuracy: 0.9217\n",
      "Epoch 3/10\n",
      "38/38 [==============================] - 4s 95ms/step - loss: 0.1482 - accuracy: 0.9483\n",
      "Epoch 4/10\n",
      "38/38 [==============================] - 4s 95ms/step - loss: 0.1646 - accuracy: 0.9383\n",
      "Epoch 5/10\n",
      "38/38 [==============================] - 4s 95ms/step - loss: 0.0936 - accuracy: 0.9733\n",
      "Epoch 6/10\n",
      "38/38 [==============================] - 4s 98ms/step - loss: 0.0644 - accuracy: 0.9783\n",
      "Epoch 7/10\n",
      "38/38 [==============================] - 4s 97ms/step - loss: 0.0803 - accuracy: 0.9700\n",
      "Epoch 8/10\n",
      "38/38 [==============================] - 4s 95ms/step - loss: 0.1588 - accuracy: 0.9433\n",
      "Epoch 9/10\n",
      "38/38 [==============================] - 4s 95ms/step - loss: 0.1308 - accuracy: 0.9433\n",
      "Epoch 10/10\n",
      "38/38 [==============================] - 4s 95ms/step - loss: 0.1076 - accuracy: 0.9717\n"
     ]
    },
    {
     "data": {
      "text/plain": [
       "<tensorflow.python.keras.callbacks.History at 0x7fa41b103b50>"
      ]
     },
     "execution_count": 20,
     "metadata": {},
     "output_type": "execute_result"
    }
   ],
   "source": [
    "happy_model.fit(X_train, Y_train, epochs=10, batch_size=16)"
   ]
  },
  {
   "cell_type": "markdown",
   "metadata": {},
   "source": [
    "After that completes, just use `.evaluate()` to evaluate against your test set. This function will print the value of the loss function and the performance metrics specified during the compilation of the model. In this case, the `binary_crossentropy` and the `accuracy` respectively."
   ]
  },
  {
   "cell_type": "code",
   "execution_count": 21,
   "metadata": {},
   "outputs": [
    {
     "name": "stdout",
     "output_type": "stream",
     "text": [
      "5/5 [==============================] - 0s 29ms/step - loss: 0.3806 - accuracy: 0.7867\n"
     ]
    },
    {
     "data": {
      "text/plain": [
       "[0.38059431314468384, 0.7866666913032532]"
      ]
     },
     "execution_count": 21,
     "metadata": {},
     "output_type": "execute_result"
    }
   ],
   "source": [
    "happy_model.evaluate(X_test, Y_test)"
   ]
  },
  {
   "cell_type": "markdown",
   "metadata": {},
   "source": [
    "Easy, right? But what if you need to build a model with shared layers, branches, or multiple inputs and outputs? This is where Sequential, with its beautifully simple yet limited functionality, won't be able to help you. \n",
    "\n",
    "Next up: Enter the Functional API, your slightly more complex, highly flexible friend.  "
   ]
  },
  {
   "cell_type": "markdown",
   "metadata": {},
   "source": [
    "<a name='4'></a>\n",
    "## 4 - The Functional API"
   ]
  },
  {
   "cell_type": "markdown",
   "metadata": {},
   "source": [
    "Welcome to the second half of the assignment, where you'll use Keras' flexible [Functional API](https://www.tensorflow.org/guide/keras/functional) to build a ConvNet that can differentiate between 6 sign language digits. \n",
    "\n",
    "The Functional API can handle models with non-linear topology, shared layers, as well as layers with multiple inputs or outputs. Imagine that, where the Sequential API requires the model to move in a linear fashion through its layers, the Functional API allows much more flexibility. Where Sequential is a straight line, a Functional model is a graph, where the nodes of the layers can connect in many more ways than one. \n",
    "\n",
    "In the visual example below, the one possible direction of the movement Sequential model is shown in contrast to a skip connection, which is just one of the many ways a Functional model can be constructed. A skip connection, as you might have guessed, skips some layer in the network and feeds the output to a later layer in the network. Don't worry, you'll be spending more time with skip connections very soon! "
   ]
  },
  {
   "cell_type": "markdown",
   "metadata": {},
   "source": [
    "<img src=\"images/seq_vs_func.png\" style=\"width:350px;height:200px;\">"
   ]
  },
  {
   "cell_type": "markdown",
   "metadata": {},
   "source": [
    "<a name='4-1'></a>\n",
    "### 4.1 - Load the SIGNS Dataset\n",
    "\n",
    "As a reminder, the SIGNS dataset is a collection of 6 signs representing numbers from 0 to 5."
   ]
  },
  {
   "cell_type": "code",
   "execution_count": 22,
   "metadata": {},
   "outputs": [],
   "source": [
    "# Loading the data (signs)\n",
    "X_train_orig, Y_train_orig, X_test_orig, Y_test_orig, classes = load_signs_dataset()"
   ]
  },
  {
   "cell_type": "markdown",
   "metadata": {},
   "source": [
    "<img src=\"images/SIGNS.png\" style=\"width:800px;height:300px;\">\n",
    "\n",
    "The next cell will show you an example of a labelled image in the dataset. Feel free to change the value of `index` below and re-run to see different examples. "
   ]
  },
  {
   "cell_type": "code",
   "execution_count": 23,
   "metadata": {},
   "outputs": [
    {
     "name": "stdout",
     "output_type": "stream",
     "text": [
      "y = 4\n"
     ]
    },
    {
     "data": {
      "image/png": "[encoded data removed]",
      "text/plain": [
       "<Figure size 432x288 with 1 Axes>"
      ]
     },
     "metadata": {
      "needs_background": "light"
     },
     "output_type": "display_data"
    }
   ],
   "source": [
    "# Example of an image from the dataset\n",
    "index = 9\n",
    "plt.imshow(X_train_orig[index])\n",
    "print (\"y = \" + str(np.squeeze(Y_train_orig[:, index])))"
   ]
  },
  {
   "cell_type": "markdown",
   "metadata": {},
   "source": [
    "<a name='4-2'></a>\n",
    "### 4.2 - Split the Data into Train/Test Sets\n",
    "\n",
    "In Course 2, you built a fully-connected network for this dataset. But since this is an image dataset, it is more natural to apply a ConvNet to it.\n",
    "\n",
    "To get started, let's examine the shapes of your data. "
   ]
  },
  {
   "cell_type": "code",
   "execution_count": 24,
   "metadata": {},
   "outputs": [
    {
     "name": "stdout",
     "output_type": "stream",
     "text": [
      "number of training examples = 1080\n",
      "number of test examples = 120\n",
      "X_train shape: (1080, 64, 64, 3)\n",
      "Y_train shape: (1080, 6)\n",
      "X_test shape: (120, 64, 64, 3)\n",
      "Y_test shape: (120, 6)\n"
     ]
    }
   ],
   "source": [
    "X_train = X_train_orig/255.\n",
    "X_test = X_test_orig/255.\n",
    "Y_train = convert_to_one_hot(Y_train_orig, 6).T\n",
    "Y_test = convert_to_one_hot(Y_test_orig, 6).T\n",
    "print (\"number of training examples = \" + str(X_train.shape[0]))\n",
    "print (\"number of test examples = \" + str(X_test.shape[0]))\n",
    "print (\"X_train shape: \" + str(X_train.shape))\n",
    "print (\"Y_train shape: \" + str(Y_train.shape))\n",
    "print (\"X_test shape: \" + str(X_test.shape))\n",
    "print (\"Y_test shape: \" + str(Y_test.shape))"
   ]
  },
  {
   "cell_type": "markdown",
   "metadata": {},
   "source": [
    "<a name='4-3'></a>\n",
    "### 4.3 - Forward Propagation\n",
    "\n",
    "In TensorFlow, there are built-in functions that implement the convolution steps for you. By now, you should be familiar with how TensorFlow builds computational graphs. In the [Functional API](https://www.tensorflow.org/guide/keras/functional), you create a graph of layers. This is what allows such great flexibility.\n",
    "\n",
    "However, the following model could also be defined using the Sequential API since the information flow is on a single line. But don't deviate. What we want you to learn is to use the functional API.\n",
    "\n",
    "Begin building your graph of layers by creating an input node that functions as a callable object:\n",
    "\n",
    "- **input_img = tf.keras.Input(shape=input_shape):** \n",
    "\n",
    "Then, create a new node in the graph of layers by calling a layer on the `input_img` object: \n",
    "\n",
    "- **tf.keras.layers.Conv2D(filters= ... , kernel_size= ... , padding='same')(input_img):** Read the full documentation on [Conv2D](https://www.tensorflow.org/api_docs/python/tf/keras/layers/Conv2D).\n",
    "\n",
    "- **tf.keras.layers.MaxPool2D(pool_size=(f, f), strides=(s, s), padding='same'):** `MaxPool2D()` downsamples your input using a window of size (f, f) and strides of size (s, s) to carry out max pooling over each window.  For max pooling, you usually operate on a single example at a time and a single channel at a time. Read the full documentation on [MaxPool2D](https://www.tensorflow.org/api_docs/python/tf/keras/layers/MaxPool2D).\n",
    "\n",
    "- **tf.keras.layers.ReLU():** computes the elementwise ReLU of Z (which can be any shape). You can read the full documentation on [ReLU](https://www.tensorflow.org/api_docs/python/tf/keras/layers/ReLU).\n",
    "\n",
    "- **tf.keras.layers.Flatten()**: given a tensor \"P\", this function takes each training (or test) example in the batch and flattens it into a 1D vector.  \n",
    "\n",
    "    * If a tensor P has the shape (batch_size,h,w,c), it returns a flattened tensor with shape (batch_size, k), where $k=h \\times w \\times c$.  \"k\" equals the product of all the dimension sizes other than the first dimension.\n",
    "    \n",
    "    * For example, given a tensor with dimensions [100, 2, 3, 4], it flattens the tensor to be of shape [100, 24], where 24 = 2 * 3 * 4.  You can read the full documentation on [Flatten](https://www.tensorflow.org/api_docs/python/tf/keras/layers/Flatten).\n",
    "\n",
    "- **tf.keras.layers.Dense(units= ... , activation='softmax')(F):** given the flattened input F, it returns the output computed using a fully connected layer. You can read the full documentation on [Dense](https://www.tensorflow.org/api_docs/python/tf/keras/layers/Dense).\n",
    "\n",
    "In the last function above (`tf.keras.layers.Dense()`), the fully connected layer automatically initializes weights in the graph and keeps on training them as you train the model. Hence, you did not need to initialize those weights when initializing the parameters.\n",
    "\n",
    "Lastly, before creating the model, you'll need to define the output using the last of the function's compositions (in this example, a Dense layer): \n",
    "\n",
    "- **outputs = tf.keras.layers.Dense(units=6, activation='softmax')(F)**\n",
    "\n",
    "\n",
    "#### Window, kernel, filter, pool\n",
    "\n",
    "The words \"kernel\" and \"filter\" are used to refer to the same thing. The word \"filter\" accounts for the amount of \"kernels\" that will be used in a single convolution layer. \"Pool\" is the name of the operation that takes the max or average value of the kernels. \n",
    "\n",
    "This is why the parameter `pool_size` refers to `kernel_size`, and you use `(f,f)` to refer to the filter size. \n",
    "\n",
    "Pool size and kernel size refer to the same thing in different objects - They refer to the shape of the window where the operation takes place. "
   ]
  },
  {
   "cell_type": "markdown",
   "metadata": {},
   "source": [
    "<a name='ex-2'></a>\n",
    "### Exercise 2 - convolutional_model\n",
    "\n",
    "Implement the `convolutional_model` function below to build the following model: `CONV2D -> RELU -> MAXPOOL -> CONV2D -> RELU -> MAXPOOL -> FLATTEN -> DENSE`. Use the functions above! \n",
    "\n",
    "Also, plug in the following parameters for all the steps:\n",
    "\n",
    " - [Conv2D](https://www.tensorflow.org/api_docs/python/tf/keras/layers/Conv2D): Use 8 4 by 4 filters, stride 1, padding is \"SAME\"\n",
    " - [ReLU](https://www.tensorflow.org/api_docs/python/tf/keras/layers/ReLU)\n",
    " - [MaxPool2D](https://www.tensorflow.org/api_docs/python/tf/keras/layers/MaxPool2D): Use an 8 by 8 filter size and an 8 by 8 stride, padding is \"SAME\"\n",
    " - **Conv2D**: Use 16 2 by 2 filters, stride 1, padding is \"SAME\"\n",
    " - **ReLU**\n",
    " - **MaxPool2D**: Use a 4 by 4 filter size and a 4 by 4 stride, padding is \"SAME\"\n",
    " - [Flatten](https://www.tensorflow.org/api_docs/python/tf/keras/layers/Flatten) the previous output.\n",
    " - Fully-connected ([Dense](https://www.tensorflow.org/api_docs/python/tf/keras/layers/Dense)) layer: Apply a fully connected layer with 6 neurons and a softmax activation. "
   ]
  },
  {
   "cell_type": "code",
   "execution_count": 31,
   "metadata": {
    "deletable": false,
    "nbgrader": {
     "cell_type": "code",
     "checksum": "f58643806aa8380c96225fc8b4c5e7aa",
     "grade": false,
     "grade_id": "cell-dac51744a9e03f51",
     "locked": false,
     "schema_version": 3,
     "solution": true,
     "task": false
    }
   },
   "outputs": [],
   "source": [
    "# GRADED FUNCTION: convolutional_model\n",
    "\n",
    "def convolutional_model(input_shape):\n",
    "    \"\"\"\n",
    "    Implements the forward propagation for the model:\n",
    "    CONV2D -> RELU -> MAXPOOL -> CONV2D -> RELU -> MAXPOOL -> FLATTEN -> DENSE\n",
    "    \n",
    "    Note that for simplicity and grading purposes, you'll hard-code some values\n",
    "    such as the stride and kernel (filter) sizes. \n",
    "    Normally, functions should take these values as function parameters.\n",
    "    \n",
    "    Arguments:\n",
    "    input_img -- input dataset, of shape (input_shape)\n",
    "\n",
    "    Returns:\n",
    "    model -- TF Keras model (object containing the information for the entire training process) \n",
    "    \"\"\"\n",
    "\n",
    "    input_img = tf.keras.Input(shape=input_shape)\n",
    "    ## CONV2D: 8 filters 4x4, stride of 1, padding 'SAME'\n",
    "    Z1 =tfl.Conv2D(filters=8,kernel_size=(4,4),strides=(1,1), padding=\"same\")(input_img)\n",
    "    ## RELU\n",
    "    A1 =tfl.ReLU()(Z1)\n",
    "    ## MAXPOOL: window 8x8, stride 8, padding 'SAME'\n",
    "    P1 = tfl.MaxPool2D(pool_size=(8,8), strides=(8,8), padding=\"same\")(A1)\n",
    "    ## CONV2D: 16 filters 2x2, stride 1, padding 'SAME'\n",
    "    Z2 = tfl.Conv2D(filters=16, kernel_size=(2,2), strides=(1,1), padding=\"same\")(P1)\n",
    "    ## RELU\n",
    "    A2 = tfl.ReLU()(Z2)\n",
    "    ## MAXPOOL: window 4x4, stride 4, padding 'SAME'\n",
    "    P2 = tfl.MaxPool2D(pool_size=(4,4), strides=(4,4), padding=\"same\")(A2)\n",
    "    ## FLATTEN\n",
    "    F = tfl.Flatten()(P2)\n",
    "    outputs = tfl.Dense(units=6, activation='softmax')(F)\n",
    "    ## Dense layer\n",
    "    ## 6 neurons in output layer. Hint: one of the arguments should be \"activation='softmax'\" \n",
    "    # outputs = None\n",
    "    # YOUR CODE STARTS HERE\n",
    "    \n",
    "    \n",
    "    # YOUR CODE ENDS HERE\n",
    "    model = tf.keras.Model(inputs=input_img, outputs=outputs)\n",
    "    return model"
   ]
  },
  {
   "cell_type": "code",
   "execution_count": 36,
   "metadata": {
    "deletable": false,
    "editable": false,
    "nbgrader": {
     "cell_type": "code",
     "checksum": "483d626949930a0b0ef20997e7c6ba72",
     "grade": true,
     "grade_id": "cell-45d22e92042174c9",
     "locked": true,
     "points": 10,
     "schema_version": 3,
     "solution": false,
     "task": false
    }
   },
   "outputs": [
    {
     "name": "stdout",
     "output_type": "stream",
     "text": [
      "Model: \"functional_3\"\n",
      "_________________________________________________________________\n",
      "Layer (type)                 Output Shape              Param #   \n",
      "=================================================================\n",
      "input_5 (InputLayer)         [(None, 64, 64, 3)]       0         \n",
      "_________________________________________________________________\n",
      "conv2d_12 (Conv2D)           (None, 64, 64, 8)         392       \n",
      "_________________________________________________________________\n",
      "re_lu_12 (ReLU)              (None, 64, 64, 8)         0         \n",
      "_________________________________________________________________\n",
      "max_pooling2d_8 (MaxPooling2 (None, 8, 8, 8)           0         \n",
      "_________________________________________________________________\n",
      "conv2d_13 (Conv2D)           (None, 8, 8, 16)          528       \n",
      "_________________________________________________________________\n",
      "re_lu_13 (ReLU)              (None, 8, 8, 16)          0         \n",
      "_________________________________________________________________\n",
      "max_pooling2d_9 (MaxPooling2 (None, 2, 2, 16)          0         \n",
      "_________________________________________________________________\n",
      "flatten_4 (Flatten)          (None, 64)                0         \n",
      "_________________________________________________________________\n",
      "dense_4 (Dense)              (None, 6)                 390       \n",
      "=================================================================\n",
      "Total params: 1,310\n",
      "Trainable params: 1,310\n",
      "Non-trainable params: 0\n",
      "_________________________________________________________________\n",
      "\u001b[32mAll tests passed!\u001b[0m\n"
     ]
    }
   ],
   "source": [
    "conv_model = convolutional_model((64, 64, 3))\n",
    "conv_model.compile(optimizer='adam',\n",
    "                  loss='categorical_crossentropy',\n",
    "                  metrics=['accuracy'])\n",
    "conv_model.summary()\n",
    "    \n",
    "output = [['InputLayer', [(None, 64, 64, 3)], 0],\n",
    "        ['Conv2D', (None, 64, 64, 8), 392, 'same', 'linear', 'GlorotUniform'],\n",
    "        ['ReLU', (None, 64, 64, 8), 0],\n",
    "        ['MaxPooling2D', (None, 8, 8, 8), 0, (8, 8), (8, 8), 'same'],\n",
    "        ['Conv2D', (None, 8, 8, 16), 528, 'same', 'linear', 'GlorotUniform'],\n",
    "        ['ReLU', (None, 8, 8, 16), 0],\n",
    "        ['MaxPooling2D', (None, 2, 2, 16), 0, (4, 4), (4, 4), 'same'],\n",
    "        ['Flatten', (None, 64), 0],\n",
    "        ['Dense', (None, 6), 390, 'softmax']]\n",
    "    \n",
    "comparator(summary(conv_model), output)"
   ]
  },
  {
   "cell_type": "markdown",
   "metadata": {},
   "source": [
    "Both the Sequential and Functional APIs return a TF Keras model object. The only difference is how inputs are handled inside the object model! "
   ]
  },
  {
   "cell_type": "markdown",
   "metadata": {},
   "source": [
    "<a name='4-4'></a>\n",
    "### 4.4 - Train the Model"
   ]
  },
  {
   "cell_type": "code",
   "execution_count": 33,
   "metadata": {},
   "outputs": [
    {
     "name": "stdout",
     "output_type": "stream",
     "text": [
      "Epoch 1/100\n",
      "17/17 [==============================] - 2s 112ms/step - loss: 1.8161 - accuracy: 0.1722 - val_loss: 1.7952 - val_accuracy: 0.1500\n",
      "Epoch 2/100\n",
      "17/17 [==============================] - 2s 111ms/step - loss: 1.7925 - accuracy: 0.1481 - val_loss: 1.7893 - val_accuracy: 0.1917\n",
      "Epoch 3/100\n",
      "17/17 [==============================] - 2s 106ms/step - loss: 1.7855 - accuracy: 0.2111 - val_loss: 1.7841 - val_accuracy: 0.2083\n",
      "Epoch 4/100\n",
      "17/17 [==============================] - 2s 106ms/step - loss: 1.7810 - accuracy: 0.2278 - val_loss: 1.7778 - val_accuracy: 0.2500\n",
      "Epoch 5/100\n",
      "17/17 [==============================] - 2s 106ms/step - loss: 1.7742 - accuracy: 0.2796 - val_loss: 1.7714 - val_accuracy: 0.3000\n",
      "Epoch 6/100\n",
      "17/17 [==============================] - 2s 106ms/step - loss: 1.7660 - accuracy: 0.3574 - val_loss: 1.7632 - val_accuracy: 0.3583\n",
      "Epoch 7/100\n",
      "17/17 [==============================] - 2s 107ms/step - loss: 1.7569 - accuracy: 0.3815 - val_loss: 1.7528 - val_accuracy: 0.4167\n",
      "Epoch 8/100\n",
      "17/17 [==============================] - 2s 106ms/step - loss: 1.7444 - accuracy: 0.4204 - val_loss: 1.7420 - val_accuracy: 0.4667\n",
      "Epoch 9/100\n",
      "17/17 [==============================] - 2s 106ms/step - loss: 1.7308 - accuracy: 0.4556 - val_loss: 1.7292 - val_accuracy: 0.4667\n",
      "Epoch 10/100\n",
      "17/17 [==============================] - 2s 106ms/step - loss: 1.7140 - accuracy: 0.4630 - val_loss: 1.7147 - val_accuracy: 0.4500\n",
      "Epoch 11/100\n",
      "17/17 [==============================] - 2s 106ms/step - loss: 1.6930 - accuracy: 0.4750 - val_loss: 1.6970 - val_accuracy: 0.4333\n",
      "Epoch 12/100\n",
      "17/17 [==============================] - 2s 106ms/step - loss: 1.6687 - accuracy: 0.4657 - val_loss: 1.6727 - val_accuracy: 0.4667\n",
      "Epoch 13/100\n",
      "17/17 [==============================] - 2s 106ms/step - loss: 1.6356 - accuracy: 0.4861 - val_loss: 1.6448 - val_accuracy: 0.4667\n",
      "Epoch 14/100\n",
      "17/17 [==============================] - 2s 106ms/step - loss: 1.6002 - accuracy: 0.4880 - val_loss: 1.6118 - val_accuracy: 0.4667\n",
      "Epoch 15/100\n",
      "17/17 [==============================] - 2s 112ms/step - loss: 1.5584 - accuracy: 0.4991 - val_loss: 1.5753 - val_accuracy: 0.4667\n",
      "Epoch 16/100\n",
      "17/17 [==============================] - 2s 112ms/step - loss: 1.5134 - accuracy: 0.5019 - val_loss: 1.5316 - val_accuracy: 0.4667\n",
      "Epoch 17/100\n",
      "17/17 [==============================] - 2s 106ms/step - loss: 1.4656 - accuracy: 0.5056 - val_loss: 1.4860 - val_accuracy: 0.4750\n",
      "Epoch 18/100\n",
      "17/17 [==============================] - 2s 106ms/step - loss: 1.4150 - accuracy: 0.5111 - val_loss: 1.4414 - val_accuracy: 0.5250\n",
      "Epoch 19/100\n",
      "17/17 [==============================] - 2s 112ms/step - loss: 1.3685 - accuracy: 0.5324 - val_loss: 1.3933 - val_accuracy: 0.5167\n",
      "Epoch 20/100\n",
      "17/17 [==============================] - 2s 107ms/step - loss: 1.3231 - accuracy: 0.5417 - val_loss: 1.3516 - val_accuracy: 0.5167\n",
      "Epoch 21/100\n",
      "17/17 [==============================] - 2s 106ms/step - loss: 1.2823 - accuracy: 0.5537 - val_loss: 1.3071 - val_accuracy: 0.5250\n",
      "Epoch 22/100\n",
      "17/17 [==============================] - 2s 106ms/step - loss: 1.2427 - accuracy: 0.5713 - val_loss: 1.2715 - val_accuracy: 0.5417\n",
      "Epoch 23/100\n",
      "17/17 [==============================] - 2s 111ms/step - loss: 1.2073 - accuracy: 0.5778 - val_loss: 1.2362 - val_accuracy: 0.5750\n",
      "Epoch 24/100\n",
      "17/17 [==============================] - 2s 106ms/step - loss: 1.1751 - accuracy: 0.5824 - val_loss: 1.2043 - val_accuracy: 0.5833\n",
      "Epoch 25/100\n",
      "17/17 [==============================] - 2s 106ms/step - loss: 1.1429 - accuracy: 0.5972 - val_loss: 1.1732 - val_accuracy: 0.5917\n",
      "Epoch 26/100\n",
      "17/17 [==============================] - 2s 111ms/step - loss: 1.1166 - accuracy: 0.6046 - val_loss: 1.1459 - val_accuracy: 0.6167\n",
      "Epoch 27/100\n",
      "17/17 [==============================] - 2s 107ms/step - loss: 1.0890 - accuracy: 0.6241 - val_loss: 1.1166 - val_accuracy: 0.6333\n",
      "Epoch 28/100\n",
      "17/17 [==============================] - 2s 106ms/step - loss: 1.0651 - accuracy: 0.6380 - val_loss: 1.0931 - val_accuracy: 0.6500\n",
      "Epoch 29/100\n",
      "17/17 [==============================] - 2s 106ms/step - loss: 1.0423 - accuracy: 0.6500 - val_loss: 1.0700 - val_accuracy: 0.6583\n",
      "Epoch 30/100\n",
      "17/17 [==============================] - 2s 112ms/step - loss: 1.0210 - accuracy: 0.6500 - val_loss: 1.0488 - val_accuracy: 0.6583\n",
      "Epoch 31/100\n",
      "17/17 [==============================] - 2s 106ms/step - loss: 1.0005 - accuracy: 0.6611 - val_loss: 1.0292 - val_accuracy: 0.6583\n",
      "Epoch 32/100\n",
      "17/17 [==============================] - 2s 106ms/step - loss: 0.9820 - accuracy: 0.6639 - val_loss: 1.0096 - val_accuracy: 0.6583\n",
      "Epoch 33/100\n",
      "17/17 [==============================] - 2s 111ms/step - loss: 0.9632 - accuracy: 0.6731 - val_loss: 0.9908 - val_accuracy: 0.6583\n",
      "Epoch 34/100\n",
      "17/17 [==============================] - 2s 112ms/step - loss: 0.9466 - accuracy: 0.6769 - val_loss: 0.9745 - val_accuracy: 0.6583\n",
      "Epoch 35/100\n",
      "17/17 [==============================] - 2s 107ms/step - loss: 0.9303 - accuracy: 0.6787 - val_loss: 0.9589 - val_accuracy: 0.6667\n",
      "Epoch 36/100\n",
      "17/17 [==============================] - 2s 106ms/step - loss: 0.9143 - accuracy: 0.6861 - val_loss: 0.9448 - val_accuracy: 0.6667\n",
      "Epoch 37/100\n",
      "17/17 [==============================] - 2s 111ms/step - loss: 0.8994 - accuracy: 0.6981 - val_loss: 0.9313 - val_accuracy: 0.6667\n",
      "Epoch 38/100\n",
      "17/17 [==============================] - 2s 107ms/step - loss: 0.8846 - accuracy: 0.7028 - val_loss: 0.9172 - val_accuracy: 0.6667\n",
      "Epoch 39/100\n",
      "17/17 [==============================] - 2s 107ms/step - loss: 0.8696 - accuracy: 0.7074 - val_loss: 0.9035 - val_accuracy: 0.6750\n",
      "Epoch 40/100\n",
      "17/17 [==============================] - 2s 107ms/step - loss: 0.8560 - accuracy: 0.7139 - val_loss: 0.8932 - val_accuracy: 0.6750\n",
      "Epoch 41/100\n",
      "17/17 [==============================] - 2s 106ms/step - loss: 0.8429 - accuracy: 0.7130 - val_loss: 0.8811 - val_accuracy: 0.6750\n",
      "Epoch 42/100\n",
      "17/17 [==============================] - 2s 101ms/step - loss: 0.8301 - accuracy: 0.7204 - val_loss: 0.8696 - val_accuracy: 0.6667\n",
      "Epoch 43/100\n",
      "17/17 [==============================] - 2s 106ms/step - loss: 0.8176 - accuracy: 0.7194 - val_loss: 0.8578 - val_accuracy: 0.6583\n",
      "Epoch 44/100\n",
      "17/17 [==============================] - 2s 106ms/step - loss: 0.8050 - accuracy: 0.7231 - val_loss: 0.8488 - val_accuracy: 0.6583\n",
      "Epoch 45/100\n",
      "17/17 [==============================] - 2s 106ms/step - loss: 0.7938 - accuracy: 0.7278 - val_loss: 0.8377 - val_accuracy: 0.6667\n",
      "Epoch 46/100\n",
      "17/17 [==============================] - 2s 111ms/step - loss: 0.7822 - accuracy: 0.7315 - val_loss: 0.8289 - val_accuracy: 0.6667\n",
      "Epoch 47/100\n",
      "17/17 [==============================] - 2s 111ms/step - loss: 0.7717 - accuracy: 0.7352 - val_loss: 0.8183 - val_accuracy: 0.6833\n",
      "Epoch 48/100\n",
      "17/17 [==============================] - 2s 106ms/step - loss: 0.7611 - accuracy: 0.7398 - val_loss: 0.8096 - val_accuracy: 0.6750\n",
      "Epoch 49/100\n",
      "17/17 [==============================] - 2s 106ms/step - loss: 0.7509 - accuracy: 0.7463 - val_loss: 0.7999 - val_accuracy: 0.6833\n",
      "Epoch 50/100\n",
      "17/17 [==============================] - 2s 111ms/step - loss: 0.7408 - accuracy: 0.7481 - val_loss: 0.7911 - val_accuracy: 0.6917\n",
      "Epoch 51/100\n",
      "17/17 [==============================] - 2s 112ms/step - loss: 0.7307 - accuracy: 0.7528 - val_loss: 0.7824 - val_accuracy: 0.6917\n",
      "Epoch 52/100\n",
      "17/17 [==============================] - 2s 111ms/step - loss: 0.7210 - accuracy: 0.7602 - val_loss: 0.7728 - val_accuracy: 0.6917\n",
      "Epoch 53/100\n",
      "17/17 [==============================] - 2s 111ms/step - loss: 0.7114 - accuracy: 0.7667 - val_loss: 0.7661 - val_accuracy: 0.7083\n",
      "Epoch 54/100\n",
      "17/17 [==============================] - 2s 111ms/step - loss: 0.7023 - accuracy: 0.7713 - val_loss: 0.7568 - val_accuracy: 0.7167\n",
      "Epoch 55/100\n",
      "17/17 [==============================] - 2s 112ms/step - loss: 0.6931 - accuracy: 0.7731 - val_loss: 0.7501 - val_accuracy: 0.7167\n",
      "Epoch 56/100\n",
      "17/17 [==============================] - 2s 106ms/step - loss: 0.6845 - accuracy: 0.7741 - val_loss: 0.7421 - val_accuracy: 0.7167\n",
      "Epoch 57/100\n",
      "17/17 [==============================] - 2s 106ms/step - loss: 0.6758 - accuracy: 0.7759 - val_loss: 0.7350 - val_accuracy: 0.7250\n"
     ]
    },
    {
     "name": "stdout",
     "output_type": "stream",
     "text": [
      "Epoch 58/100\n",
      "17/17 [==============================] - 2s 117ms/step - loss: 0.6674 - accuracy: 0.7806 - val_loss: 0.7269 - val_accuracy: 0.7250\n",
      "Epoch 59/100\n",
      "17/17 [==============================] - 2s 112ms/step - loss: 0.6594 - accuracy: 0.7833 - val_loss: 0.7198 - val_accuracy: 0.7333\n",
      "Epoch 60/100\n",
      "17/17 [==============================] - 2s 107ms/step - loss: 0.6514 - accuracy: 0.7870 - val_loss: 0.7131 - val_accuracy: 0.7333\n",
      "Epoch 61/100\n",
      "17/17 [==============================] - 2s 106ms/step - loss: 0.6438 - accuracy: 0.7917 - val_loss: 0.7050 - val_accuracy: 0.7417\n",
      "Epoch 62/100\n",
      "17/17 [==============================] - 2s 106ms/step - loss: 0.6359 - accuracy: 0.7944 - val_loss: 0.7013 - val_accuracy: 0.7500\n",
      "Epoch 63/100\n",
      "17/17 [==============================] - 2s 106ms/step - loss: 0.6291 - accuracy: 0.7991 - val_loss: 0.6923 - val_accuracy: 0.7500\n",
      "Epoch 64/100\n",
      "17/17 [==============================] - 2s 106ms/step - loss: 0.6216 - accuracy: 0.7991 - val_loss: 0.6878 - val_accuracy: 0.7583\n",
      "Epoch 65/100\n",
      "17/17 [==============================] - 2s 106ms/step - loss: 0.6147 - accuracy: 0.7972 - val_loss: 0.6813 - val_accuracy: 0.7583\n",
      "Epoch 66/100\n",
      "17/17 [==============================] - 2s 111ms/step - loss: 0.6074 - accuracy: 0.8000 - val_loss: 0.6762 - val_accuracy: 0.7667\n",
      "Epoch 67/100\n",
      "17/17 [==============================] - 2s 106ms/step - loss: 0.6005 - accuracy: 0.8046 - val_loss: 0.6705 - val_accuracy: 0.7667\n",
      "Epoch 68/100\n",
      "17/17 [==============================] - 2s 107ms/step - loss: 0.5938 - accuracy: 0.8065 - val_loss: 0.6664 - val_accuracy: 0.7667\n",
      "Epoch 69/100\n",
      "17/17 [==============================] - 2s 106ms/step - loss: 0.5872 - accuracy: 0.8083 - val_loss: 0.6592 - val_accuracy: 0.7750\n",
      "Epoch 70/100\n",
      "17/17 [==============================] - 2s 111ms/step - loss: 0.5808 - accuracy: 0.8093 - val_loss: 0.6539 - val_accuracy: 0.7750\n",
      "Epoch 71/100\n",
      "17/17 [==============================] - 2s 106ms/step - loss: 0.5739 - accuracy: 0.8139 - val_loss: 0.6484 - val_accuracy: 0.7750\n",
      "Epoch 72/100\n",
      "17/17 [==============================] - 2s 106ms/step - loss: 0.5676 - accuracy: 0.8139 - val_loss: 0.6423 - val_accuracy: 0.7917\n",
      "Epoch 73/100\n",
      "17/17 [==============================] - 2s 106ms/step - loss: 0.5611 - accuracy: 0.8148 - val_loss: 0.6369 - val_accuracy: 0.7917\n",
      "Epoch 74/100\n",
      "17/17 [==============================] - 2s 106ms/step - loss: 0.5551 - accuracy: 0.8185 - val_loss: 0.6336 - val_accuracy: 0.7917\n",
      "Epoch 75/100\n",
      "17/17 [==============================] - 2s 111ms/step - loss: 0.5490 - accuracy: 0.8204 - val_loss: 0.6284 - val_accuracy: 0.7917\n",
      "Epoch 76/100\n",
      "17/17 [==============================] - 2s 106ms/step - loss: 0.5426 - accuracy: 0.8222 - val_loss: 0.6239 - val_accuracy: 0.8000\n",
      "Epoch 77/100\n",
      "17/17 [==============================] - 2s 111ms/step - loss: 0.5370 - accuracy: 0.8241 - val_loss: 0.6188 - val_accuracy: 0.8000\n",
      "Epoch 78/100\n",
      "17/17 [==============================] - 2s 111ms/step - loss: 0.5315 - accuracy: 0.8231 - val_loss: 0.6143 - val_accuracy: 0.8000\n",
      "Epoch 79/100\n",
      "17/17 [==============================] - 2s 112ms/step - loss: 0.5259 - accuracy: 0.8250 - val_loss: 0.6095 - val_accuracy: 0.8000\n",
      "Epoch 80/100\n",
      "17/17 [==============================] - 2s 111ms/step - loss: 0.5207 - accuracy: 0.8241 - val_loss: 0.6045 - val_accuracy: 0.8000\n",
      "Epoch 81/100\n",
      "17/17 [==============================] - 2s 106ms/step - loss: 0.5156 - accuracy: 0.8259 - val_loss: 0.6005 - val_accuracy: 0.8000\n",
      "Epoch 82/100\n",
      "17/17 [==============================] - 2s 106ms/step - loss: 0.5105 - accuracy: 0.8287 - val_loss: 0.5958 - val_accuracy: 0.8000\n",
      "Epoch 83/100\n",
      "17/17 [==============================] - 2s 111ms/step - loss: 0.5054 - accuracy: 0.8333 - val_loss: 0.5918 - val_accuracy: 0.7917\n",
      "Epoch 84/100\n",
      "17/17 [==============================] - 2s 107ms/step - loss: 0.5003 - accuracy: 0.8333 - val_loss: 0.5868 - val_accuracy: 0.7833\n",
      "Epoch 85/100\n",
      "17/17 [==============================] - 2s 107ms/step - loss: 0.4956 - accuracy: 0.8333 - val_loss: 0.5831 - val_accuracy: 0.7833\n",
      "Epoch 86/100\n",
      "17/17 [==============================] - 2s 106ms/step - loss: 0.4911 - accuracy: 0.8361 - val_loss: 0.5768 - val_accuracy: 0.7833\n",
      "Epoch 87/100\n",
      "17/17 [==============================] - 2s 106ms/step - loss: 0.4865 - accuracy: 0.8380 - val_loss: 0.5736 - val_accuracy: 0.7750\n",
      "Epoch 88/100\n",
      "17/17 [==============================] - 2s 106ms/step - loss: 0.4818 - accuracy: 0.8398 - val_loss: 0.5675 - val_accuracy: 0.7833\n",
      "Epoch 89/100\n",
      "17/17 [==============================] - 2s 111ms/step - loss: 0.4773 - accuracy: 0.8380 - val_loss: 0.5649 - val_accuracy: 0.7833\n",
      "Epoch 90/100\n",
      "17/17 [==============================] - 2s 106ms/step - loss: 0.4732 - accuracy: 0.8426 - val_loss: 0.5589 - val_accuracy: 0.7833\n",
      "Epoch 91/100\n",
      "17/17 [==============================] - 2s 106ms/step - loss: 0.4689 - accuracy: 0.8435 - val_loss: 0.5566 - val_accuracy: 0.7833\n",
      "Epoch 92/100\n",
      "17/17 [==============================] - 2s 106ms/step - loss: 0.4644 - accuracy: 0.8454 - val_loss: 0.5505 - val_accuracy: 0.7833\n",
      "Epoch 93/100\n",
      "17/17 [==============================] - 2s 106ms/step - loss: 0.4607 - accuracy: 0.8444 - val_loss: 0.5484 - val_accuracy: 0.7833\n",
      "Epoch 94/100\n",
      "17/17 [==============================] - 2s 106ms/step - loss: 0.4560 - accuracy: 0.8491 - val_loss: 0.5446 - val_accuracy: 0.7917\n",
      "Epoch 95/100\n",
      "17/17 [==============================] - 2s 111ms/step - loss: 0.4534 - accuracy: 0.8528 - val_loss: 0.5403 - val_accuracy: 0.7917\n",
      "Epoch 96/100\n",
      "17/17 [==============================] - 2s 106ms/step - loss: 0.4495 - accuracy: 0.8519 - val_loss: 0.5368 - val_accuracy: 0.7833\n",
      "Epoch 97/100\n",
      "17/17 [==============================] - 2s 106ms/step - loss: 0.4456 - accuracy: 0.8537 - val_loss: 0.5323 - val_accuracy: 0.8000\n",
      "Epoch 98/100\n",
      "17/17 [==============================] - 2s 106ms/step - loss: 0.4413 - accuracy: 0.8556 - val_loss: 0.5292 - val_accuracy: 0.8083\n",
      "Epoch 99/100\n",
      "17/17 [==============================] - 2s 106ms/step - loss: 0.4371 - accuracy: 0.8574 - val_loss: 0.5253 - val_accuracy: 0.8083\n",
      "Epoch 100/100\n",
      "17/17 [==============================] - 2s 106ms/step - loss: 0.4332 - accuracy: 0.8565 - val_loss: 0.5223 - val_accuracy: 0.8167\n"
     ]
    }
   ],
   "source": [
    "train_dataset = tf.data.Dataset.from_tensor_slices((X_train, Y_train)).batch(64)\n",
    "test_dataset = tf.data.Dataset.from_tensor_slices((X_test, Y_test)).batch(64)\n",
    "history = conv_model.fit(train_dataset, epochs=100, validation_data=test_dataset)"
   ]
  },
  {
   "cell_type": "markdown",
   "metadata": {},
   "source": [
    "<a name='5'></a>\n",
    "## 5 - History Object \n",
    "\n",
    "The history object is an output of the `.fit()` operation, and provides a record of all the loss and metric values in memory. It's stored as a dictionary that you can retrieve at `history.history`: "
   ]
  },
  {
   "cell_type": "code",
   "execution_count": 34,
   "metadata": {},
   "outputs": [
    {
     "data": {
      "text/plain": [
       "{'loss': [1.8161131143569946,\n",
       "  1.7925113439559937,\n",
       "  1.7854673862457275,\n",
       "  1.7810182571411133,\n",
       "  1.7741591930389404,\n",
       "  1.7660382986068726,\n",
       "  1.7568888664245605,\n",
       "  1.7444207668304443,\n",
       "  1.730836033821106,\n",
       "  1.7139556407928467,\n",
       "  1.693024754524231,\n",
       "  1.668717384338379,\n",
       "  1.635637640953064,\n",
       "  1.6002131700515747,\n",
       "  1.5583857297897339,\n",
       "  1.513442873954773,\n",
       "  1.4655897617340088,\n",
       "  1.4149973392486572,\n",
       "  1.3685191869735718,\n",
       "  1.32308828830719,\n",
       "  1.2822844982147217,\n",
       "  1.2427492141723633,\n",
       "  1.2073413133621216,\n",
       "  1.1750564575195312,\n",
       "  1.1429375410079956,\n",
       "  1.1166234016418457,\n",
       "  1.0889874696731567,\n",
       "  1.065134882926941,\n",
       "  1.0423250198364258,\n",
       "  1.0210233926773071,\n",
       "  1.0005167722702026,\n",
       "  0.9819691777229309,\n",
       "  0.9632067680358887,\n",
       "  0.9465932846069336,\n",
       "  0.9303003549575806,\n",
       "  0.9142902493476868,\n",
       "  0.8993514776229858,\n",
       "  0.8846111297607422,\n",
       "  0.8696261048316956,\n",
       "  0.85602205991745,\n",
       "  0.8429393172264099,\n",
       "  0.8300631642341614,\n",
       "  0.817604124546051,\n",
       "  0.8050175905227661,\n",
       "  0.7937778234481812,\n",
       "  0.7822425961494446,\n",
       "  0.7717401385307312,\n",
       "  0.7610940337181091,\n",
       "  0.7509489059448242,\n",
       "  0.7408296465873718,\n",
       "  0.7307177782058716,\n",
       "  0.720988392829895,\n",
       "  0.7114228010177612,\n",
       "  0.7022630572319031,\n",
       "  0.693051815032959,\n",
       "  0.6845299005508423,\n",
       "  0.6757665276527405,\n",
       "  0.6673938035964966,\n",
       "  0.6594442129135132,\n",
       "  0.6513828039169312,\n",
       "  0.643761396408081,\n",
       "  0.6359149813652039,\n",
       "  0.6290831565856934,\n",
       "  0.6216470003128052,\n",
       "  0.6146770715713501,\n",
       "  0.6074038147926331,\n",
       "  0.6004568338394165,\n",
       "  0.5937803983688354,\n",
       "  0.5871838331222534,\n",
       "  0.5807578563690186,\n",
       "  0.5739041566848755,\n",
       "  0.5675546526908875,\n",
       "  0.5610656142234802,\n",
       "  0.555066704750061,\n",
       "  0.5490184426307678,\n",
       "  0.542644739151001,\n",
       "  0.5370386242866516,\n",
       "  0.5315231084823608,\n",
       "  0.5259215235710144,\n",
       "  0.5206629633903503,\n",
       "  0.5156354904174805,\n",
       "  0.5105319023132324,\n",
       "  0.5054214000701904,\n",
       "  0.5003440380096436,\n",
       "  0.49558529257774353,\n",
       "  0.49109795689582825,\n",
       "  0.4864920675754547,\n",
       "  0.48182645440101624,\n",
       "  0.47725433111190796,\n",
       "  0.4731946885585785,\n",
       "  0.4688655436038971,\n",
       "  0.46437010169029236,\n",
       "  0.46067771315574646,\n",
       "  0.4559671878814697,\n",
       "  0.4534257650375366,\n",
       "  0.44953563809394836,\n",
       "  0.4455987513065338,\n",
       "  0.44126442074775696,\n",
       "  0.4371429979801178,\n",
       "  0.433239609003067],\n",
       " 'accuracy': [0.17222222685813904,\n",
       "  0.14814814925193787,\n",
       "  0.21111111342906952,\n",
       "  0.22777777910232544,\n",
       "  0.2796296179294586,\n",
       "  0.35740742087364197,\n",
       "  0.38148146867752075,\n",
       "  0.4203703701496124,\n",
       "  0.4555555582046509,\n",
       "  0.46296295523643494,\n",
       "  0.4749999940395355,\n",
       "  0.46574074029922485,\n",
       "  0.4861111044883728,\n",
       "  0.4879629611968994,\n",
       "  0.4990740716457367,\n",
       "  0.5018518567085266,\n",
       "  0.5055555701255798,\n",
       "  0.5111111402511597,\n",
       "  0.5324074029922485,\n",
       "  0.5416666865348816,\n",
       "  0.5537037253379822,\n",
       "  0.5712962746620178,\n",
       "  0.5777778029441833,\n",
       "  0.5824074149131775,\n",
       "  0.5972222089767456,\n",
       "  0.604629635810852,\n",
       "  0.6240741014480591,\n",
       "  0.6379629373550415,\n",
       "  0.6499999761581421,\n",
       "  0.6499999761581421,\n",
       "  0.6611111164093018,\n",
       "  0.6638888716697693,\n",
       "  0.6731481552124023,\n",
       "  0.6768518686294556,\n",
       "  0.6787037253379822,\n",
       "  0.6861110925674438,\n",
       "  0.6981481313705444,\n",
       "  0.7027778029441833,\n",
       "  0.7074074149131775,\n",
       "  0.7138888835906982,\n",
       "  0.7129629850387573,\n",
       "  0.720370352268219,\n",
       "  0.7194444537162781,\n",
       "  0.7231481671333313,\n",
       "  0.7277777791023254,\n",
       "  0.7314814925193787,\n",
       "  0.7351852059364319,\n",
       "  0.739814817905426,\n",
       "  0.7462962865829468,\n",
       "  0.7481481432914734,\n",
       "  0.7527777552604675,\n",
       "  0.760185182094574,\n",
       "  0.7666666507720947,\n",
       "  0.7712963223457336,\n",
       "  0.7731481194496155,\n",
       "  0.7740740776062012,\n",
       "  0.7759259343147278,\n",
       "  0.7805555462837219,\n",
       "  0.7833333611488342,\n",
       "  0.7870370149612427,\n",
       "  0.7916666865348816,\n",
       "  0.7944444417953491,\n",
       "  0.7990740537643433,\n",
       "  0.7990740537643433,\n",
       "  0.7972221970558167,\n",
       "  0.800000011920929,\n",
       "  0.8046296238899231,\n",
       "  0.8064814805984497,\n",
       "  0.8083333373069763,\n",
       "  0.8092592358589172,\n",
       "  0.8138889074325562,\n",
       "  0.8138889074325562,\n",
       "  0.8148148059844971,\n",
       "  0.8185185194015503,\n",
       "  0.8203703761100769,\n",
       "  0.8222222328186035,\n",
       "  0.8240740895271301,\n",
       "  0.8231481313705444,\n",
       "  0.824999988079071,\n",
       "  0.8240740895271301,\n",
       "  0.8259259462356567,\n",
       "  0.8287037014961243,\n",
       "  0.8333333134651184,\n",
       "  0.8333333134651184,\n",
       "  0.8333333134651184,\n",
       "  0.8361111283302307,\n",
       "  0.8379629850387573,\n",
       "  0.8398148417472839,\n",
       "  0.8379629850387573,\n",
       "  0.8425925970077515,\n",
       "  0.8435184955596924,\n",
       "  0.845370352268219,\n",
       "  0.8444444537162781,\n",
       "  0.8490740656852722,\n",
       "  0.8527777791023254,\n",
       "  0.8518518805503845,\n",
       "  0.8537036776542664,\n",
       "  0.855555534362793,\n",
       "  0.8574073910713196,\n",
       "  0.8564814925193787],\n",
       " 'val_loss': [1.7952086925506592,\n",
       "  1.7892533540725708,\n",
       "  1.7841413021087646,\n",
       "  1.7777639627456665,\n",
       "  1.7713617086410522,\n",
       "  1.7632091045379639,\n",
       "  1.7527893781661987,\n",
       "  1.7420241832733154,\n",
       "  1.7291818857192993,\n",
       "  1.7147396802902222,\n",
       "  1.6970237493515015,\n",
       "  1.6727415323257446,\n",
       "  1.6448198556900024,\n",
       "  1.6117616891860962,\n",
       "  1.5753148794174194,\n",
       "  1.5316113233566284,\n",
       "  1.4859840869903564,\n",
       "  1.4413920640945435,\n",
       "  1.3932645320892334,\n",
       "  1.3516322374343872,\n",
       "  1.307131290435791,\n",
       "  1.2714645862579346,\n",
       "  1.2361769676208496,\n",
       "  1.204321026802063,\n",
       "  1.1732302904129028,\n",
       "  1.145853877067566,\n",
       "  1.1166445016860962,\n",
       "  1.0931174755096436,\n",
       "  1.0699795484542847,\n",
       "  1.0488030910491943,\n",
       "  1.029184341430664,\n",
       "  1.0095669031143188,\n",
       "  0.9908280968666077,\n",
       "  0.9744921922683716,\n",
       "  0.9588766694068909,\n",
       "  0.9447503685951233,\n",
       "  0.9313262701034546,\n",
       "  0.9172174334526062,\n",
       "  0.903515100479126,\n",
       "  0.8931809663772583,\n",
       "  0.8810686469078064,\n",
       "  0.8695915341377258,\n",
       "  0.8577558994293213,\n",
       "  0.8487505316734314,\n",
       "  0.8376531600952148,\n",
       "  0.8288670778274536,\n",
       "  0.8183448910713196,\n",
       "  0.8095890283584595,\n",
       "  0.7999033331871033,\n",
       "  0.7910541296005249,\n",
       "  0.7824469208717346,\n",
       "  0.7728033661842346,\n",
       "  0.7660675048828125,\n",
       "  0.7568116784095764,\n",
       "  0.750106155872345,\n",
       "  0.7421070337295532,\n",
       "  0.7350149154663086,\n",
       "  0.7269017696380615,\n",
       "  0.7197835445404053,\n",
       "  0.7130881547927856,\n",
       "  0.7050407528877258,\n",
       "  0.7012547850608826,\n",
       "  0.6922823786735535,\n",
       "  0.6878027319908142,\n",
       "  0.6812690496444702,\n",
       "  0.6762238144874573,\n",
       "  0.6705114841461182,\n",
       "  0.6664162278175354,\n",
       "  0.6591673493385315,\n",
       "  0.6539379358291626,\n",
       "  0.6483536958694458,\n",
       "  0.64227294921875,\n",
       "  0.63689124584198,\n",
       "  0.6335554718971252,\n",
       "  0.6283684968948364,\n",
       "  0.6238941550254822,\n",
       "  0.6188018918037415,\n",
       "  0.6142625212669373,\n",
       "  0.6095353960990906,\n",
       "  0.60451340675354,\n",
       "  0.6004924178123474,\n",
       "  0.5958329439163208,\n",
       "  0.5918072462081909,\n",
       "  0.5867500305175781,\n",
       "  0.5830926299095154,\n",
       "  0.576837420463562,\n",
       "  0.5735775828361511,\n",
       "  0.5674932599067688,\n",
       "  0.5648888945579529,\n",
       "  0.5588701963424683,\n",
       "  0.5566284656524658,\n",
       "  0.5504749417304993,\n",
       "  0.5483772158622742,\n",
       "  0.544589638710022,\n",
       "  0.5402513146400452,\n",
       "  0.5367852449417114,\n",
       "  0.53226238489151,\n",
       "  0.5291507244110107,\n",
       "  0.5252979397773743,\n",
       "  0.5222775340080261],\n",
       " 'val_accuracy': [0.15000000596046448,\n",
       "  0.19166666269302368,\n",
       "  0.2083333283662796,\n",
       "  0.25,\n",
       "  0.30000001192092896,\n",
       "  0.3583333194255829,\n",
       "  0.4166666567325592,\n",
       "  0.46666666865348816,\n",
       "  0.46666666865348816,\n",
       "  0.44999998807907104,\n",
       "  0.4333333373069763,\n",
       "  0.46666666865348816,\n",
       "  0.46666666865348816,\n",
       "  0.46666666865348816,\n",
       "  0.46666666865348816,\n",
       "  0.46666666865348816,\n",
       "  0.4749999940395355,\n",
       "  0.5249999761581421,\n",
       "  0.5166666507720947,\n",
       "  0.5166666507720947,\n",
       "  0.5249999761581421,\n",
       "  0.5416666865348816,\n",
       "  0.574999988079071,\n",
       "  0.5833333134651184,\n",
       "  0.5916666388511658,\n",
       "  0.6166666746139526,\n",
       "  0.6333333253860474,\n",
       "  0.6499999761581421,\n",
       "  0.6583333611488342,\n",
       "  0.6583333611488342,\n",
       "  0.6583333611488342,\n",
       "  0.6583333611488342,\n",
       "  0.6583333611488342,\n",
       "  0.6583333611488342,\n",
       "  0.6666666865348816,\n",
       "  0.6666666865348816,\n",
       "  0.6666666865348816,\n",
       "  0.6666666865348816,\n",
       "  0.675000011920929,\n",
       "  0.675000011920929,\n",
       "  0.675000011920929,\n",
       "  0.6666666865348816,\n",
       "  0.6583333611488342,\n",
       "  0.6583333611488342,\n",
       "  0.6666666865348816,\n",
       "  0.6666666865348816,\n",
       "  0.6833333373069763,\n",
       "  0.675000011920929,\n",
       "  0.6833333373069763,\n",
       "  0.6916666626930237,\n",
       "  0.6916666626930237,\n",
       "  0.6916666626930237,\n",
       "  0.7083333134651184,\n",
       "  0.7166666388511658,\n",
       "  0.7166666388511658,\n",
       "  0.7166666388511658,\n",
       "  0.7250000238418579,\n",
       "  0.7250000238418579,\n",
       "  0.7333333492279053,\n",
       "  0.7333333492279053,\n",
       "  0.7416666746139526,\n",
       "  0.75,\n",
       "  0.75,\n",
       "  0.7583333253860474,\n",
       "  0.7583333253860474,\n",
       "  0.7666666507720947,\n",
       "  0.7666666507720947,\n",
       "  0.7666666507720947,\n",
       "  0.7749999761581421,\n",
       "  0.7749999761581421,\n",
       "  0.7749999761581421,\n",
       "  0.7916666865348816,\n",
       "  0.7916666865348816,\n",
       "  0.7916666865348816,\n",
       "  0.7916666865348816,\n",
       "  0.800000011920929,\n",
       "  0.800000011920929,\n",
       "  0.800000011920929,\n",
       "  0.800000011920929,\n",
       "  0.800000011920929,\n",
       "  0.800000011920929,\n",
       "  0.800000011920929,\n",
       "  0.7916666865348816,\n",
       "  0.7833333611488342,\n",
       "  0.7833333611488342,\n",
       "  0.7833333611488342,\n",
       "  0.7749999761581421,\n",
       "  0.7833333611488342,\n",
       "  0.7833333611488342,\n",
       "  0.7833333611488342,\n",
       "  0.7833333611488342,\n",
       "  0.7833333611488342,\n",
       "  0.7833333611488342,\n",
       "  0.7916666865348816,\n",
       "  0.7916666865348816,\n",
       "  0.7833333611488342,\n",
       "  0.800000011920929,\n",
       "  0.8083333373069763,\n",
       "  0.8083333373069763,\n",
       "  0.8166666626930237]}"
      ]
     },
     "execution_count": 34,
     "metadata": {},
     "output_type": "execute_result"
    }
   ],
   "source": [
    "history.history"
   ]
  },
  {
   "cell_type": "markdown",
   "metadata": {},
   "source": [
    "Now visualize the loss over time using `history.history`: "
   ]
  },
  {
   "cell_type": "code",
   "execution_count": 35,
   "metadata": {},
   "outputs": [
    {
     "data": {
      "text/plain": [
       "[Text(0, 0.5, 'Accuracy'), Text(0.5, 0, 'Epoch')]"
      ]
     },
     "execution_count": 35,
     "metadata": {},
     "output_type": "execute_result"
    },
    {
     "data": {
      "image/png": "[encoded data removed]",
      "text/plain": [
       "<Figure size 864x576 with 1 Axes>"
      ]
     },
     "metadata": {
      "needs_background": "light"
     },
     "output_type": "display_data"
    },
    {
     "data": {
      "image/png": "[encoded data removed]",
      "text/plain": [
       "<Figure size 864x576 with 1 Axes>"
      ]
     },
     "metadata": {
      "needs_background": "light"
     },
     "output_type": "display_data"
    }
   ],
   "source": [
    "# The history.history[\"loss\"] entry is a dictionary with as many values as epochs that the\n",
    "# model was trained on. \n",
    "df_loss_acc = pd.DataFrame(history.history)\n",
    "df_loss= df_loss_acc[['loss','val_loss']]\n",
    "df_loss.rename(columns={'loss':'train','val_loss':'validation'},inplace=True)\n",
    "df_acc= df_loss_acc[['accuracy','val_accuracy']]\n",
    "df_acc.rename(columns={'accuracy':'train','val_accuracy':'validation'},inplace=True)\n",
    "df_loss.plot(title='Model loss',figsize=(12,8)).set(xlabel='Epoch',ylabel='Loss')\n",
    "df_acc.plot(title='Model Accuracy',figsize=(12,8)).set(xlabel='Epoch',ylabel='Accuracy')"
   ]
  },
  {
   "cell_type": "markdown",
   "metadata": {},
   "source": [
    "**Congratulations**! You've finished the assignment and built two models: One that recognizes  smiles, and another that recognizes SIGN language with almost 80% accuracy on the test set. In addition to that, you now also understand the applications of two Keras APIs: Sequential and Functional. Nicely done! \n",
    "\n",
    "By now, you know a bit about how the Functional API works and may have glimpsed the possibilities. In your next assignment, you'll really get a feel for its power when you get the opportunity to build a very deep ConvNet, using ResNets! "
   ]
  },
  {
   "cell_type": "markdown",
   "metadata": {},
   "source": [
    "<a name='6'></a>\n",
    "## 6 - Bibliography\n",
    "\n",
    "You're always encouraged to read the official documentation. To that end, you can find the docs for the Sequential and Functional APIs here: \n",
    "\n",
    "https://www.tensorflow.org/guide/keras/sequential_model\n",
    "\n",
    "https://www.tensorflow.org/guide/keras/functional"
   ]
  }
 ],
 "metadata": {
  "coursera": {
   "course_slug": "convolutional-neural-networks",
   "graded_item_id": "bwbJV",
   "launcher_item_id": "0TkXB"
  },
  "kernelspec": {
   "display_name": "Python 3",
   "language": "python",
   "name": "python3"
  },
  "language_info": {
   "codemirror_mode": {
    "name": "ipython",
    "version": 3
   },
   "file_extension": ".py",
   "mimetype": "text/x-python",
   "name": "python",
   "nbconvert_exporter": "python",
   "pygments_lexer": "ipython3",
   "version": "3.7.6"
  }
 },
 "nbformat": 4,
 "nbformat_minor": 2
}
